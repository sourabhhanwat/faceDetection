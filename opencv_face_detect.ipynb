{
  "nbformat": 4,
  "nbformat_minor": 0,
  "metadata": {
    "colab": {
      "name": "opencv_face_detect.ipynb",
      "provenance": [],
      "collapsed_sections": []
    },
    "kernelspec": {
      "name": "python3",
      "display_name": "Python 3"
    }
  },
  "cells": [
    {
      "cell_type": "markdown",
      "metadata": {
        "id": "r1jZcshRn-7G",
        "colab_type": "text"
      },
      "source": [
        "\n",
        "\n",
        "> Upload Image\n",
        "\n"
      ]
    },
    {
      "cell_type": "code",
      "metadata": {
        "id": "mcgUJWC93SLY",
        "colab_type": "code",
        "colab": {}
      },
      "source": [
        "from google.colab import files\n",
        "file=files.upload()"
      ],
      "execution_count": null,
      "outputs": []
    },
    {
      "cell_type": "markdown",
      "metadata": {
        "id": "jJ-tWM1yoFzh",
        "colab_type": "text"
      },
      "source": [
        "import libaray"
      ]
    },
    {
      "cell_type": "code",
      "metadata": {
        "id": "TQj2ZaUK3S4j",
        "colab_type": "code",
        "colab": {}
      },
      "source": [
        "import numpy as np\n",
        "import cv2, os\n",
        "import matplotlib.pyplot as plt"
      ],
      "execution_count": 28,
      "outputs": []
    },
    {
      "cell_type": "markdown",
      "metadata": {
        "id": "vOOFjbuJobVZ",
        "colab_type": "text"
      },
      "source": [
        "Detecting face and eye using Haar Cascade Classifier"
      ]
    },
    {
      "cell_type": "code",
      "metadata": {
        "id": "sfK4Vh9Y7yOi",
        "colab_type": "code",
        "colab": {}
      },
      "source": [
        "face_cascade = cv2.CascadeClassifier('/content/haarcascade_frontalface_default.xml')\n",
        "eye_cascade = cv2.CascadeClassifier('/content/haarcascade_eye.xml')\n",
        "img = cv2.imread('/content/hero.jpg')\n",
        "gray = cv2.cvtColor(img, cv2.COLOR_BGR2GRAY)\n",
        "faces = face_cascade.detectMultiScale(gray, 1.3, 5)\n",
        "print(faces)"
      ],
      "execution_count": null,
      "outputs": []
    },
    {
      "cell_type": "markdown",
      "metadata": {
        "id": "ON1tNMFGomWd",
        "colab_type": "text"
      },
      "source": [
        "make rectangle"
      ]
    },
    {
      "cell_type": "code",
      "metadata": {
        "id": "q8pg-vn84YHz",
        "colab_type": "code",
        "colab": {}
      },
      "source": [
        "for (x,y,w,h) in faces:\n",
        "    img = cv2.rectangle(img,(x,y),(x+w,y+h),(255,0,0),2)\n",
        "    roi_gray = gray[y:y+h, x:x+w]\n",
        "    roi_color = img[y:y+h, x:x+w]\n",
        "    eyes = eye_cascade.detectMultiScale(roi_gray)\n",
        "    for (ex,ey,ew,eh) in eyes:\n",
        "        cv2.rectangle(roi_color,(ex,ey),(ex+ew,ey+eh),(0,255,0),2)\n",
        "plt.grid(None)   \n",
        "plt.xticks([])\n",
        "plt.yticks([])\n",
        "imgplot = plt.imshow(img)"
      ],
      "execution_count": null,
      "outputs": []
    },
    {
      "cell_type": "code",
      "metadata": {
        "id": "SNLGjfxg7ScC",
        "colab_type": "code",
        "colab": {}
      },
      "source": [
        ""
      ],
      "execution_count": null,
      "outputs": []
    }
  ]
}